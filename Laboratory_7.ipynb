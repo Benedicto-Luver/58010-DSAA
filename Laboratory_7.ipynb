{
  "nbformat": 4,
  "nbformat_minor": 0,
  "metadata": {
    "colab": {
      "provenance": [],
      "authorship_tag": "ABX9TyO7hMxCcLc2PTJgc9XA2TIx",
      "include_colab_link": true
    },
    "kernelspec": {
      "name": "python3",
      "display_name": "Python 3"
    },
    "language_info": {
      "name": "python"
    }
  },
  "cells": [
    {
      "cell_type": "markdown",
      "metadata": {
        "id": "view-in-github",
        "colab_type": "text"
      },
      "source": [
        "<a href=\"https://colab.research.google.com/github/Benedicto-Luver/58010-DSAA/blob/main/Laboratory_7.ipynb\" target=\"_parent\"><img src=\"https://colab.research.google.com/assets/colab-badge.svg\" alt=\"Open In Colab\"/></a>"
      ]
    },
    {
      "cell_type": "code",
      "execution_count": 1,
      "metadata": {
        "colab": {
          "base_uri": "https://localhost:8080/"
        },
        "id": "c4QZ2oYXYf2a",
        "outputId": "3e001ae1-601e-4edb-efca-ce89c8d6a660"
      },
      "outputs": [
        {
          "output_type": "stream",
          "name": "stdout",
          "text": [
            "Prime numbers less than 20:\n",
            "2\n",
            "3\n",
            "5\n",
            "7\n",
            "11\n",
            "13\n",
            "17\n",
            "19\n",
            "Head: 2\n",
            "Tail: 19\n"
          ]
        }
      ],
      "source": [
        "import math\n",
        "\n",
        "class Node:\n",
        "    def __init__(self, value):\n",
        "        self.value = value\n",
        "        self.next = None\n",
        "\n",
        "def is_prime(n):\n",
        "    if n < 2:\n",
        "        return False\n",
        "    for i in range(2, int(math.sqrt(n)) + 1):\n",
        "        if n % i == 0:\n",
        "            return False\n",
        "    return True\n",
        "\n",
        "def create_linked_list():\n",
        "    head = None\n",
        "    tail = None\n",
        "    for num in range(2, 20):\n",
        "        if is_prime(num):\n",
        "            new_node = Node(num)\n",
        "            if head is None:\n",
        "                head = new_node\n",
        "                tail = new_node\n",
        "            else:\n",
        "                tail.next = new_node\n",
        "                tail = new_node\n",
        "    return head, tail\n",
        "\n",
        "def display_linked_list(head):\n",
        "    current = head\n",
        "    while current is not None:\n",
        "        print(current.value)\n",
        "        current = current.next\n",
        "\n",
        "head, tail = create_linked_list()\n",
        "print(\"Prime numbers less than 20:\")\n",
        "display_linked_list(head)\n",
        "print(\"Head:\", head.value)\n",
        "print(\"Tail:\", tail.value)"
      ]
    }
  ]
}