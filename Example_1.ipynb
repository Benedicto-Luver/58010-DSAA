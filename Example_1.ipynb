{
  "nbformat": 4,
  "nbformat_minor": 0,
  "metadata": {
    "colab": {
      "provenance": [],
      "authorship_tag": "ABX9TyN8p7+V+nmHPGloUIMRdbd+",
      "include_colab_link": true
    },
    "kernelspec": {
      "name": "python3",
      "display_name": "Python 3"
    },
    "language_info": {
      "name": "python"
    }
  },
  "cells": [
    {
      "cell_type": "markdown",
      "metadata": {
        "id": "view-in-github",
        "colab_type": "text"
      },
      "source": [
        "<a href=\"https://colab.research.google.com/github/Benedicto-Luver/58010-DSAA/blob/main/Example_1.ipynb\" target=\"_parent\"><img src=\"https://colab.research.google.com/assets/colab-badge.svg\" alt=\"Open In Colab\"/></a>"
      ]
    },
    {
      "cell_type": "code",
      "execution_count": 18,
      "metadata": {
        "colab": {
          "base_uri": "https://localhost:8080/"
        },
        "id": "GABZJ1kSL00q",
        "outputId": "7fdaa08a-64f2-45fa-b1a2-325462879094"
      },
      "outputs": [
        {
          "output_type": "stream",
          "name": "stdout",
          "text": [
            "The area of the rectangle is 50\n"
          ]
        }
      ],
      "source": [
        "class Shapes:\n",
        "  def __init__(self,length,width):\n",
        "    self.length = length\n",
        "    self.width = width\n",
        "\n",
        "class Rectangle(Shapes):\n",
        "  def area_rectangle(self):\n",
        "    return self.length * self.width\n",
        "  def display_rectangle(self):\n",
        "    print(\"The area of the rectangle is\",self.area_rectangle())\n",
        "\n",
        "rectangle = Rectangle(10,5)\n",
        "\n",
        "rectangle.display_rectangle()"
      ]
    }
  ]
}