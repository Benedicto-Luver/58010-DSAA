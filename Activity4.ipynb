{
  "nbformat": 4,
  "nbformat_minor": 0,
  "metadata": {
    "colab": {
      "provenance": [],
      "authorship_tag": "ABX9TyOzhOyNj80yRhaK3CIMV9Bd",
      "include_colab_link": true
    },
    "kernelspec": {
      "name": "python3",
      "display_name": "Python 3"
    },
    "language_info": {
      "name": "python"
    }
  },
  "cells": [
    {
      "cell_type": "markdown",
      "metadata": {
        "id": "view-in-github",
        "colab_type": "text"
      },
      "source": [
        "<a href=\"https://colab.research.google.com/github/Benedicto-Luver/58010-DSAA/blob/main/Activity4.ipynb\" target=\"_parent\"><img src=\"https://colab.research.google.com/assets/colab-badge.svg\" alt=\"Open In Colab\"/></a>"
      ]
    },
    {
      "cell_type": "markdown",
      "source": [
        "Create a Python program that will traverse all integers (1 to 50) from the list, enqueue those integers that are even in the list, and dequeue afterward until the list becomes empty."
      ],
      "metadata": {
        "id": "feZP27KfQWwB"
      }
    },
    {
      "cell_type": "code",
      "source": [
        "import queue\n",
        "\n",
        "Que = queue.Queue()\n",
        "integer = list(range(1, 51))\n",
        "\n",
        "for q in integer:\n",
        "  if q % 2 == 0:\n",
        "    Que.put(q)\n",
        "\n",
        "print(\"Queue:\", list(Que.queue))\n",
        "\n",
        "while not Que.empty():\n",
        "    integer = Que.get()\n",
        "    print(\"Dequeued:\", integer)\n",
        "\n",
        "print(\"Queue is empty.\")"
      ],
      "metadata": {
        "colab": {
          "base_uri": "https://localhost:8080/"
        },
        "id": "pSAod_ELQYIp",
        "outputId": "d696cf0b-b0ba-496f-f5a4-dcc0dfdd3bd7"
      },
      "execution_count": 12,
      "outputs": [
        {
          "output_type": "stream",
          "name": "stdout",
          "text": [
            "Queue: [2, 4, 6, 8, 10, 12, 14, 16, 18, 20, 22, 24, 26, 28, 30, 32, 34, 36, 38, 40, 42, 44, 46, 48, 50]\n",
            "Dequeued: 2\n",
            "Dequeued: 4\n",
            "Dequeued: 6\n",
            "Dequeued: 8\n",
            "Dequeued: 10\n",
            "Dequeued: 12\n",
            "Dequeued: 14\n",
            "Dequeued: 16\n",
            "Dequeued: 18\n",
            "Dequeued: 20\n",
            "Dequeued: 22\n",
            "Dequeued: 24\n",
            "Dequeued: 26\n",
            "Dequeued: 28\n",
            "Dequeued: 30\n",
            "Dequeued: 32\n",
            "Dequeued: 34\n",
            "Dequeued: 36\n",
            "Dequeued: 38\n",
            "Dequeued: 40\n",
            "Dequeued: 42\n",
            "Dequeued: 44\n",
            "Dequeued: 46\n",
            "Dequeued: 48\n",
            "Dequeued: 50\n",
            "Queue is empty.\n"
          ]
        }
      ]
    }
  ]
}