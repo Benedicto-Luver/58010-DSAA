{
  "nbformat": 4,
  "nbformat_minor": 0,
  "metadata": {
    "colab": {
      "provenance": [],
      "authorship_tag": "ABX9TyNQ87WU7N4K8SX8kGfm7Lmj",
      "include_colab_link": true
    },
    "kernelspec": {
      "name": "python3",
      "display_name": "Python 3"
    },
    "language_info": {
      "name": "python"
    }
  },
  "cells": [
    {
      "cell_type": "markdown",
      "metadata": {
        "id": "view-in-github",
        "colab_type": "text"
      },
      "source": [
        "<a href=\"https://colab.research.google.com/github/Benedicto-Luver/58010-DSAA/blob/main/Prelim_Exam.ipynb\" target=\"_parent\"><img src=\"https://colab.research.google.com/assets/colab-badge.svg\" alt=\"Open In Colab\"/></a>"
      ]
    },
    {
      "cell_type": "code",
      "execution_count": 8,
      "metadata": {
        "colab": {
          "base_uri": "https://localhost:8080/"
        },
        "id": "uDTI_JKEgmER",
        "outputId": "6099d4bf-8b8c-4025-8653-78cba21fdb73"
      },
      "outputs": [
        {
          "output_type": "stream",
          "name": "stdout",
          "text": [
            "Total: 397\n",
            "Ascending order: [26, 49, 62, 75, 87, 98]\n"
          ]
        }
      ],
      "source": [
        "numbers = [98, 87, 26, 49, 75, 62]\n",
        "\n",
        "total = sum(numbers)\n",
        "\n",
        "sorted_scores = sorted(numbers)\n",
        "\n",
        "print(\"Total:\", total)\n",
        "print(\"Ascending order:\", sorted_scores)"
      ]
    }
  ]
}